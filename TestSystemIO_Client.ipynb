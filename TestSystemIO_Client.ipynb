{
 "cells": [
  {
   "cell_type": "markdown",
   "metadata": {},
   "source": [
    "# Step 0. Parameter Setting "
   ]
  },
  {
   "cell_type": "code",
   "execution_count": null,
   "metadata": {
    "collapsed": true
   },
   "outputs": [],
   "source": [
    "import dtnmonitor_v2 as dtn\n",
    "import os\n",
    "\n",
    "\n",
    "### P1. SELECT THE MONITOR NETWORK INTERFACE\n",
    "## used in Step 1,2,3 , if you don't know the interface name, you can use 'all'\n",
    "## make sure the interface is correct, error_naming or without network flow will get empty grath\n",
    "#dtn.interface = 'eth0.1301'\n",
    "#dtn.interface = 'eth0.2038' \n",
    "dtn.interface = 'ens4.2038'\n",
    "#dtn.interface = 'eth1'\n",
    "#dtn.interface = 'all'\n",
    "\n",
    "\n",
    "### P2. SELECT THE INPUT FILE , \n",
    "## used in Step 1 : file IO read file\n",
    "file_read_fio = \"/data/disk0/10G.dat\"\n",
    "\n",
    "\n",
    "### P3. NUTTCP SERVER IP \n",
    "## used in Step 2,3 : input nuttcp server's ip\n",
    "nuttcp_server=\"10.250.38.52\"\n",
    "\n",
    "### P4. NUTTCP THREADS\n",
    "## used in Step 2,3 :input threads number\n",
    "count = 8\n",
    "\n",
    "## run fio and check status\n",
    "### select graph_mode [0|1] \n",
    "#graph_mode=0  # all, \n",
    "#graph_mode=1  # 100pt\n",
    "graph_mode=0  "
   ]
  },
  {
   "cell_type": "markdown",
   "metadata": {},
   "source": [
    "# Step 1. Test file IO"
   ]
  },
  {
   "cell_type": "code",
   "execution_count": null,
   "metadata": {
    "collapsed": true,
    "scrolled": false
   },
   "outputs": [],
   "source": [
    "# setup fio parameters\n",
    "# first, filename is assigned with existed and >1GB file path \n",
    "randrepeat=\" --randrepeat=0\" #--randrepeat=0 \n",
    "bs=\" --bs=1M\" #--bs=1M \n",
    "ioengine=\" --ioengine=sync \"#--ioengine=sync \n",
    "tuntime=\" --runtime=30\" #--runtime=30 \n",
    "iodepth=\" --iodepth=32\"#--iodepth=32 \n",
    "name=\" --name=drive0\"#--name=drive0 \n",
    "size=\" --size=100G \"#--size=100G \n",
    "filename=\" --filename=\"+file_read_fio #--filename=filename\n",
    "\n",
    "\n"
   ]
  },
  {
   "cell_type": "code",
   "execution_count": null,
   "metadata": {},
   "outputs": [],
   "source": [
    "\n",
    "for i in range(count):\n",
    "    filename=\" --filename=\"+file_read_fio #--filename=filename\n",
    "    cmd=\"fio --thread --rw=read --readonly --norandommap --group_reporting --time_based \"\n",
    "    command = cmd + randrepeat + bs + ioengine + tuntime + iodepth + name + size + filename +\" & \"\n",
    "    print(command)\n",
    "    os.system(command)\n",
    "\n",
    "dtn.exec_command(\"sleep 30\" ,graph_mode)"
   ]
  },
  {
   "cell_type": "markdown",
   "metadata": {},
   "source": [
    "# Step 2. Test network transfer by memory"
   ]
  },
  {
   "cell_type": "code",
   "execution_count": null,
   "metadata": {
    "scrolled": false
   },
   "outputs": [],
   "source": [
    "command = \"\"\n",
    "\n",
    "for i in range(count):\n",
    "     command += \"nuttcp -t -i1 -xc \"+str(i)+\" -w 110M -T 30s -P 5200\"+str(i)+\" -p 5210\"+str(i)+ \" \"+ nuttcp_server +\" & \"\n",
    "#    if i != (count-1):\n",
    "#        command += \"nuttcp -t -i1 -xc \"+str(i)+\" -w 110M -T 30s -P 5200\"+str(i)+\" -p 5210\"+str(i)+ \" \"+ nuttcp_server +\" & \"\n",
    "#    else: \n",
    "#        command += \"nuttcp -t -i1 -xc \"+str(i)+\" -w 110M -T 30s -P 5200\"+str(i)+\" -p 5210\"+str(i)+ \" \"+ nuttcp_server +\" & \"\n",
    "        \n",
    "#print(command)\n",
    "os.system(command)\n",
    "dtn.exec_command(\"sleep 40\",graph_mode)\n",
    "\n"
   ]
  },
  {
   "cell_type": "code",
   "execution_count": null,
   "metadata": {
    "collapsed": true
   },
   "outputs": [],
   "source": []
  },
  {
   "cell_type": "markdown",
   "metadata": {},
   "source": [
    "# Step 3. Test network transfer by disk"
   ]
  },
  {
   "cell_type": "code",
   "execution_count": null,
   "metadata": {
    "scrolled": false
   },
   "outputs": [],
   "source": [
    "\n",
    "\n",
    "for i in range(count):\n",
    "    command = \"nuttcp -t -i1 -s -xc \"+str(i)+\" -w 110M -P 5300\"+str(i)+\" -p 5310\"+str(i)+ \" \"+ nuttcp_server +\" < \"+ file_read_fio +\" & \"\n",
    "    #print(command)\n",
    "    os.system(command)\n",
    "    #dtn.exec_sysout(command)\n",
    "\n",
    "\n",
    "dtn.exec_command(\"sleep 40\",graph_mode)"
   ]
  },
  {
   "cell_type": "code",
   "execution_count": null,
   "metadata": {
    "collapsed": true
   },
   "outputs": [],
   "source": []
  }
 ],
 "metadata": {
  "kernelspec": {
   "display_name": "Python 3",
   "language": "python",
   "name": "python3"
  },
  "language_info": {
   "codemirror_mode": {
    "name": "ipython",
    "version": 3
   },
   "file_extension": ".py",
   "mimetype": "text/x-python",
   "name": "python",
   "nbconvert_exporter": "python",
   "pygments_lexer": "ipython3",
   "version": "3.4.5"
  }
 },
 "nbformat": 4,
 "nbformat_minor": 2
}
