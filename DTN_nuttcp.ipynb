{
 "cells": [
  {
   "cell_type": "markdown",
   "metadata": {},
   "source": [
    "# Step 0. Parameter Setting "
   ]
  },
  {
   "cell_type": "code",
   "execution_count": null,
   "metadata": {
    "collapsed": true
   },
   "outputs": [],
   "source": [
    "import dtnmonitor_v2 as dtn\n",
    "\n",
    "### select network interface ,  [all | <net_interface> ]  ###\n",
    "## if you don't know the interface name, you can use 'all'\n",
    "## make sure the interface is correct, error_naming or without network flow will get empty grath\n",
    "#dtn.interface = 'eth0.1301'\n",
    "#dtn.interface = 'eth0.2038' \n",
    "dtn.interface = 'all' \n",
    "#dtn.interface = 'eth1'\n",
    "\n",
    "### select graph_mode [0|1] \n",
    "#graph_mode=0  # all, \n",
    "#graph_mode=1  # 100pt\n",
    "graph_mode=0  \n"
   ]
  },
  {
   "cell_type": "markdown",
   "metadata": {},
   "source": [
    "# Step 1. Test Nuttcp protocal"
   ]
  },
  {
   "cell_type": "code",
   "execution_count": null,
   "metadata": {},
   "outputs": [],
   "source": [
    "# test nuttcp\n",
    "# dtn.exec_sysout(\"/usr/local/bin/nuttcp -i 165.124.33.139\")\n",
    "dtn.exec_run(\"/usr/local/bin/nuttcp -r -v -P50000 -p51000 -w110M -i1 -T30s 10.250.38.7\")\n",
    "dtn.exec_run(\"/usr/local/bin/nuttcp -r -v -P50001 -p51010 -w110M -i1 -T30s 10.250.38.7\")\n",
    "dtn.exec_run(\"/usr/local/bin/nuttcp -r -v -P50002 -p51020 -w110M -i1 -T30s 10.250.38.7\")\n",
    "dtn.exec_run(\"/usr/local/bin/nuttcp -r -v -P50003 -p51030 -w110M -i1 -T30s 10.250.38.7\")\n",
    "#dtn.exec_command(\"\",graph_mode)"
   ]
  },
  {
   "cell_type": "code",
   "execution_count": null,
   "metadata": {
    "scrolled": true
   },
   "outputs": [],
   "source": [
    "dtn.exec_command(\"python callmonitor_v2.py\",graph_mode)"
   ]
  },
  {
   "cell_type": "markdown",
   "metadata": {},
   "source": [
    "# Step 2. Test nuttcp file transfer"
   ]
  },
  {
   "cell_type": "code",
   "execution_count": null,
   "metadata": {
    "scrolled": true
   },
   "outputs": [],
   "source": [
    "## download and monitor\n",
    "dtn.exec_command(\"/opt/nuttcp/nuttscp-2.3 /data/disk0/fiotestwrite nuttcp@10.250.38.7:/tmp/1g.bin\",graph_mode)\n",
    "#dtn.exec_command(\"python downloadncar.py 20170608 00 NOAA\",graph_mode)\n"
   ]
  },
  {
   "cell_type": "code",
   "execution_count": null,
   "metadata": {
    "collapsed": true
   },
   "outputs": [],
   "source": []
  }
 ],
 "metadata": {
  "kernelspec": {
   "display_name": "Python 3",
   "language": "python",
   "name": "python3"
  },
  "language_info": {
   "codemirror_mode": {
    "name": "ipython",
    "version": 3
   },
   "file_extension": ".py",
   "mimetype": "text/x-python",
   "name": "python",
   "nbconvert_exporter": "python",
   "pygments_lexer": "ipython3",
   "version": "3.4.5"
  }
 },
 "nbformat": 4,
 "nbformat_minor": 2
}
