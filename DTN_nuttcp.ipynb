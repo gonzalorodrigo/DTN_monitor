{
 "cells": [
  {
   "cell_type": "markdown",
   "metadata": {
    "deletable": true,
    "editable": true
   },
   "source": [
    "# Step 0. Parameter Setting "
   ]
  },
  {
   "cell_type": "code",
   "execution_count": 2,
   "metadata": {
    "collapsed": true,
    "deletable": true,
    "editable": true
   },
   "outputs": [],
   "source": [
    "import dtnmonitor_v2 as dtn\n",
    "\n",
    "graph_mode=0  #0 all, 1 100pt\n",
    "\n"
   ]
  },
  {
   "cell_type": "markdown",
   "metadata": {
    "deletable": true,
    "editable": true
   },
   "source": [
    "# Step 1. Test Nuttcp protocal"
   ]
  },
  {
   "cell_type": "code",
   "execution_count": 3,
   "metadata": {
    "collapsed": false,
    "deletable": true,
    "editable": true
   },
   "outputs": [
    {
     "name": "stdout",
     "output_type": "stream",
     "text": [
      " 4206.9375 MB /   1.00 sec = 35290.1025 Mbps     0 retrans    383 KB-cwnd\n",
      " 4225.2500 MB /   1.00 sec = 35444.2495 Mbps     0 retrans    383 KB-cwnd\n",
      " 4205.8125 MB /   1.00 sec = 35280.9124 Mbps     0 retrans    383 KB-cwnd\n",
      " 4233.0625 MB /   1.00 sec = 35509.2534 Mbps     0 retrans    383 KB-cwnd\n",
      " 4241.5625 MB /   1.00 sec = 35579.7733 Mbps     0 retrans    383 KB-cwnd\n",
      " 4267.1250 MB /   1.00 sec = 35795.3105 Mbps     0 retrans   2943 KB-cwnd\n",
      " 4263.5625 MB /   1.00 sec = 35765.7122 Mbps     0 retrans   2943 KB-cwnd\n",
      " 4268.0625 MB /   1.00 sec = 35802.6378 Mbps     0 retrans   6399 KB-cwnd\n",
      " 4254.6250 MB /   1.00 sec = 35691.4877 Mbps     0 retrans   6399 KB-cwnd\n",
      "\n"
     ]
    }
   ],
   "source": [
    "# test nuttcp\n",
    "# dtn.exec_sysout(\"/usr/local/bin/nuttcp -i 165.124.33.139\")\n",
    "dtn.exec_sysout(\"/usr/local/bin/nuttcp -i 127.0.0.1\")"
   ]
  },
  {
   "cell_type": "markdown",
   "metadata": {
    "deletable": true,
    "editable": true
   },
   "source": [
    "# Step 2. Test nuttcp file transfer"
   ]
  },
  {
   "cell_type": "code",
   "execution_count": 4,
   "metadata": {
    "collapsed": false,
    "deletable": true,
    "editable": true,
    "scrolled": true
   },
   "outputs": [
    {
     "name": "stderr",
     "output_type": "stream",
     "text": [
      "Exception ignored in: <bound method Socket.__del__ of <zmq.sugar.socket.Socket object at 0x7fa682047288>>\n",
      "Traceback (most recent call last):\n",
      "  File \"/usr/lib64/python3.4/site-packages/zmq/sugar/socket.py\", line 69, in __del__\n",
      "    if not self._shadow:\n",
      "  File \"/usr/lib64/python3.4/site-packages/zmq/sugar/socket.py\", line 69, in __del__\n",
      "    if not self._shadow:\n",
      "  File \"/home/sc17/DTN_monitor/dtnmonitor_v2.py\", line 99, in localtrace\n",
      "    raise SystemExit()\n",
      "SystemExit: \n"
     ]
    }
   ],
   "source": [
    "## download and monitor\n",
    "dtn.exec_command(\"/opt/nuttcp/nuttscp-2.3 /opt/1g.bin nuttcp@165.124.33.139:/tmp/1g.bin\",graph_mode)\n",
    "#dtn.exec_command(\"python downloadncar.py 20170608 00 NOAA\",graph_mode)\n"
   ]
  },
  {
   "cell_type": "code",
   "execution_count": null,
   "metadata": {
    "collapsed": true,
    "deletable": true,
    "editable": true
   },
   "outputs": [],
   "source": []
  }
 ],
 "metadata": {
  "kernelspec": {
   "display_name": "Python 3",
   "language": "python",
   "name": "python3"
  },
  "language_info": {
   "codemirror_mode": {
    "name": "ipython",
    "version": 3
   },
   "file_extension": ".py",
   "mimetype": "text/x-python",
   "name": "python",
   "nbconvert_exporter": "python",
   "pygments_lexer": "ipython3",
   "version": "3.4.5"
  }
 },
 "nbformat": 4,
 "nbformat_minor": 2
}
