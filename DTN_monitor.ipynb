{
 "cells": [
  {
   "cell_type": "markdown",
   "metadata": {},
   "source": [
    "# Step 1. Parameter Setting "
   ]
  },
  {
   "cell_type": "code",
   "execution_count": 1,
   "metadata": {
    "collapsed": true
   },
   "outputs": [],
   "source": [
    "import dtnmonitor_v2 as dtn\n",
    "import subprocess,datetime,sys\n",
    "\n",
    "def exec_print(command):\n",
    "  with open(logfile, 'a') as f:\n",
    "      process = subprocess.Popen([command], stdout=subprocess.PIPE,stderr=subprocess.STDOUT, shell=True)\n",
    "      f.write(\"\\n# command: \" + command + \"(time:\" + datetime.datetime.now().strftime(\"%Y-%m-%d %H:%M:%S\") + \")\\n\")\n",
    "      for line in iter(process.stdout.readline, b''):\n",
    "          # system print\n",
    "          sys.stdout.write(line)\n",
    "          # log\n",
    "          f.write(line.decode(sys.stdout.encoding) )\n",
    "\n",
    "\n",
    "logfile='/tmp/test2.log' # log file\n",
    "\n",
    "graph_mode=1  #0 all, 1 100pt\n",
    "\n"
   ]
  },
  {
   "cell_type": "markdown",
   "metadata": {},
   "source": [
    "# Step 2. 100G DTN System Checking Instruction Guild"
   ]
  },
  {
   "cell_type": "markdown",
   "metadata": {},
   "source": [
    "## 2.1. To change TCP parameters, edit /etc/sysctl.conf as:"
   ]
  },
  {
   "cell_type": "code",
   "execution_count": 2,
   "metadata": {
    "collapsed": true
   },
   "outputs": [],
   "source": [
    "# net.core.default_qdisc = fq\n",
    "# net.core.netdev_max_backlog=250000\n",
    "# net.ipv4.tcp_no_metrics_save=1\n",
    "# net.ipv4.tcp_congestion_control=htcp\n",
    "# net.ipv4.tcp_mtu_probing=1\n",
    "# net.core.rmem_max=671088640\n",
    "# net.core.wmem_max=671088640\n",
    "# net.core.rmem_default=335544320\n",
    "# net.core.wmem_default=335544320\n",
    "# net.core.optmem_max=335544320\n",
    "# net.ipv4.tcp_mem=33554432 335544320 2355443200\n",
    "# net.ipv4.tcp_rmem = 409600 100873800 2147483647\n",
    "# net.ipv4.tcp_wmem = 409600 100873800 2147483647"
   ]
  },
  {
   "cell_type": "code",
   "execution_count": 3,
   "metadata": {
    "scrolled": true
   },
   "outputs": [
    {
     "name": "stdout",
     "output_type": "stream",
     "text": [
      "net.core.bpf_jit_enable = 0\n",
      "net.core.busy_poll = 0\n",
      "net.core.busy_read = 0\n",
      "net.core.default_qdisc = fq\n",
      "net.core.dev_weight = 64\n",
      "net.core.message_burst = 10\n",
      "net.core.message_cost = 5\n",
      "net.core.netdev_budget = 300\n",
      "net.core.netdev_max_backlog = 250000\n",
      "net.core.netdev_rss_key = 8e:8b:a2:bc:dc:7e:0d:e2:99:33:f9:97:26:42:ae:01:f9:d7:f2:3b:5a:cc:d0:83:13:a4:86:ee:41:ae:c0:34:de:fa:c2:7c:12:bf:1b:e6:62:f1:85:9a:fd:14:69:5c:64:63:1c:5f\n",
      "net.core.netdev_tstamp_prequeue = 1\n",
      "net.core.optmem_max = 335544320\n",
      "net.core.rmem_default = 335544320\n",
      "net.core.rmem_max = 671088640\n",
      "net.core.rps_sock_flow_entries = 0\n",
      "net.core.somaxconn = 128\n",
      "net.core.warnings = 1\n",
      "net.core.wmem_default = 335544320\n",
      "net.core.wmem_max = 671088640\n",
      "net.core.xfrm_acq_expires = 30\n",
      "net.core.xfrm_aevent_etime = 10\n",
      "net.core.xfrm_aevent_rseqth = 2\n",
      "net.core.xfrm_larval_drop = 1\n",
      "net.ipv4.tcp_abort_on_overflow = 0\n",
      "net.ipv4.tcp_adv_win_scale = 1\n",
      "net.ipv4.tcp_allowed_congestion_control = htcp cubic reno\n",
      "net.ipv4.tcp_app_win = 31\n",
      "net.ipv4.tcp_autocorking = 1\n",
      "net.ipv4.tcp_available_congestion_control = htcp cubic reno\n",
      "net.ipv4.tcp_base_mss = 512\n",
      "net.ipv4.tcp_challenge_ack_limit = 1000\n",
      "net.ipv4.tcp_congestion_control = htcp\n",
      "net.ipv4.tcp_dsack = 1\n",
      "net.ipv4.tcp_early_retrans = 3\n",
      "net.ipv4.tcp_ecn = 2\n",
      "net.ipv4.tcp_fack = 1\n",
      "net.ipv4.tcp_fastopen = 0\n",
      "net.ipv4.tcp_fastopen_key = 00000000-00000000-00000000-00000000\n",
      "net.ipv4.tcp_fin_timeout = 60\n",
      "net.ipv4.tcp_frto = 2\n",
      "net.ipv4.tcp_invalid_ratelimit = 500\n",
      "net.ipv4.tcp_keepalive_intvl = 75\n",
      "net.ipv4.tcp_keepalive_probes = 9\n",
      "net.ipv4.tcp_keepalive_time = 7200\n",
      "net.ipv4.tcp_limit_output_bytes = 262144\n",
      "net.ipv4.tcp_low_latency = 0\n",
      "net.ipv4.tcp_max_orphans = 262144\n",
      "net.ipv4.tcp_max_ssthresh = 0\n",
      "net.ipv4.tcp_max_syn_backlog = 2048\n",
      "net.ipv4.tcp_max_tw_buckets = 262144\n",
      "net.ipv4.tcp_mem = 33554432\t335544320\t2355443200\n",
      "net.ipv4.tcp_min_tso_segs = 2\n",
      "net.ipv4.tcp_moderate_rcvbuf = 1\n",
      "net.ipv4.tcp_mtu_probing = 1\n",
      "net.ipv4.tcp_no_metrics_save = 1\n",
      "net.ipv4.tcp_notsent_lowat = -1\n",
      "net.ipv4.tcp_orphan_retries = 0\n",
      "net.ipv4.tcp_reordering = 3\n",
      "net.ipv4.tcp_retrans_collapse = 1\n",
      "net.ipv4.tcp_retries1 = 3\n",
      "net.ipv4.tcp_retries2 = 15\n",
      "net.ipv4.tcp_rfc1337 = 0\n",
      "net.ipv4.tcp_rmem = 409600\t100873800\t2147483647\n",
      "net.ipv4.tcp_sack = 1\n",
      "net.ipv4.tcp_slow_start_after_idle = 1\n",
      "net.ipv4.tcp_stdurg = 0\n",
      "net.ipv4.tcp_syn_retries = 6\n",
      "net.ipv4.tcp_synack_retries = 5\n",
      "net.ipv4.tcp_syncookies = 1\n",
      "net.ipv4.tcp_thin_dupack = 0\n",
      "net.ipv4.tcp_thin_linear_timeouts = 0\n",
      "net.ipv4.tcp_timestamps = 1\n",
      "net.ipv4.tcp_tso_win_divisor = 3\n",
      "net.ipv4.tcp_tw_recycle = 0\n",
      "net.ipv4.tcp_tw_reuse = 0\n",
      "net.ipv4.tcp_window_scaling = 1\n",
      "net.ipv4.tcp_wmem = 409600\t100873800\t2147483647\n",
      "net.ipv4.tcp_workaround_signed_windows = 0\n"
     ]
    }
   ],
   "source": [
    "# check it\n",
    "# show your system config\n",
    "#dtn.exec_sysout(\"sysctl -a |grep 'net.core\\|net.ipv4.tcp'\")\n",
    "#dtn.exec_print(\"sysctl -a |grep 'net.core\\|net.ipv4.tcp'\")\n",
    "exec_print(\"sudo sysctl -a |grep 'net.core\\|net.ipv4.tcp'\")"
   ]
  },
  {
   "cell_type": "markdown",
   "metadata": {},
   "source": [
    "## 2.2 update Mellanox driver to the most recent one (4.1) and tuning script package.\n"
   ]
  },
  {
   "cell_type": "code",
   "execution_count": null,
   "metadata": {
    "collapsed": true
   },
   "outputs": [],
   "source": [
    "### Run the tuning script in priority: \n",
    "# sudo mlnx_tune\n"
   ]
  },
  {
   "cell_type": "code",
   "execution_count": 4,
   "metadata": {},
   "outputs": [
    {
     "name": "stdout",
     "output_type": "stream",
     "text": [
      "2017-09-06 17:59:48,620 INFO Collecting node information\n",
      "2017-09-06 17:59:48,620 INFO Collecting OS information\n",
      "2017-09-06 17:59:48,623 INFO Collecting cpupower information\n",
      "2017-09-06 17:59:48,626 INFO Collecting watchdog information\n",
      "2017-09-06 17:59:48,628 INFO Collecting abrt-ccpp information\n",
      "2017-09-06 17:59:48,631 INFO Collecting abrtd information\n",
      "2017-09-06 17:59:48,634 INFO Collecting abrt-oops information\n",
      "2017-09-06 17:59:48,636 INFO Collecting alsa-state information\n",
      "2017-09-06 17:59:48,638 INFO Collecting anacorn information\n",
      "2017-09-06 17:59:48,641 INFO Collecting atd information\n",
      "2017-09-06 17:59:48,644 INFO Collecting avahi-daemon information\n",
      "2017-09-06 17:59:48,646 INFO Collecting bluetooth information\n",
      "2017-09-06 17:59:48,649 INFO Collecting certmonger information\n",
      "2017-09-06 17:59:48,651 INFO Collecting cups information\n",
      "2017-09-06 17:59:48,653 INFO Collecting halddaemon information\n",
      "2017-09-06 17:59:48,656 INFO Collecting hidd information\n",
      "2017-09-06 17:59:48,658 INFO Collecting iprdump information\n",
      "2017-09-06 17:59:48,661 INFO Collecting iprinit information\n",
      "2017-09-06 17:59:48,663 INFO Collecting iprupdate information\n",
      "2017-09-06 17:59:48,666 INFO Collecting mdmonitor information\n",
      "2017-09-06 17:59:48,668 INFO Collecting polkit information\n",
      "2017-09-06 17:59:48,671 INFO Collecting rsyslog information\n",
      "2017-09-06 17:59:48,795 INFO Collecting CPU information\n",
      "2017-09-06 17:59:48,873 INFO Collecting memory information\n",
      "2017-09-06 17:59:48,873 INFO Collecting hugepages information\n",
      "2017-09-06 17:59:48,893 INFO Collecting IRQ Balancer information\n",
      "2017-09-06 17:59:48,896 INFO Collecting Firewall information\n",
      "2017-09-06 17:59:48,898 INFO Collecting IP table information\n",
      "2017-09-06 17:59:48,900 INFO Collecting IPv6 table information\n",
      "2017-09-06 17:59:48,903 INFO Collecting IP forwarding information\n",
      "2017-09-06 17:59:48,907 INFO Collecting hyper threading information\n",
      "2017-09-06 17:59:48,907 INFO Collecting IOMMU information\n",
      "2017-09-06 17:59:48,909 INFO Collecting driver information\n",
      "2017-09-06 17:59:49,644 INFO Collecting Mellanox devices information\n",
      "2017-09-06 17:59:59,787 INFO System info file: /tmp/mlnx_tune_170906_175947.log\n",
      "\n",
      "Mellanox Technologies - System Report\n",
      "\n",
      "Operation System Status\n",
      "CENTOS\n",
      "3.10.0-514.26.1.el7.x86_64\n",
      "\n",
      "CPU Status\n",
      "Intel Intel(R) Xeon(R) CPU E5-2683 v3 @ 2.00GHz Haswell\n",
      "\u001b[93mWarning\u001b[0m: Frequency 2055.156MHz\n",
      "\n",
      "Memory Status\n",
      "Total: 62.66 GB\n",
      "Free: 1.90 GB\n",
      "\n",
      "Hugepages Status\n",
      "On NUMA 1:\n",
      "Transparent enabled: always\n",
      "Transparent defrag: always\n",
      "\n",
      "Hyper Threading Status\n",
      "INACTIVE\n",
      "\n",
      "IRQ Balancer Status\n",
      "NOT PRESENT\n",
      "\n",
      "Firewall Status\n",
      "NOT PRESENT\n",
      "IP table Status\n",
      "NOT PRESENT\n",
      "IPv6 table Status\n",
      "NOT PRESENT\n",
      "\n",
      "Driver Status\n",
      "\u001b[92mOK\u001b[0m: mlnx-en-4.1-1.0.2.0 (OFED-4.1-1.0.2)\n",
      "\n",
      "ConnectX-4 Device Status on PCI 83:00.0\n",
      "FW version 12.20.1010\n",
      "\u001b[92mOK\u001b[0m: PCI Width x16\n",
      " >>> PCI capabilities might not be fully utilized with Haswell CPU. Make sure I/O non-posted prefetch is disabled in BIOS.\n",
      "\u001b[92mOK\u001b[0m: PCI Speed 8GT/s\n",
      "PCI Max Payload Size 256\n",
      "PCI Max Read Request 4096\n",
      "Local CPUs list [14, 15, 16, 17, 18, 19, 20, 21, 22, 23, 24, 25, 26, 27]\n",
      "\n",
      "ens4 (Port 1) Status\n",
      "Link Type eth\n",
      "\u001b[92mOK\u001b[0m: Link status Up\n",
      "Speed 100GbE \n",
      "MTU 9000\n",
      "\u001b[92mOK\u001b[0m: TX nocache copy 'off'\n",
      "\n",
      "ConnectX-4 Device Status on PCI 10:00.0\n",
      "FW version 12.20.1010\n",
      "\u001b[92mOK\u001b[0m: PCI Width x16\n",
      " >>> PCI capabilities might not be fully utilized with Haswell CPU. Make sure I/O non-posted prefetch is disabled in BIOS.\n",
      "\u001b[92mOK\u001b[0m: PCI Speed 8GT/s\n",
      "PCI Max Payload Size 256\n",
      "PCI Max Read Request 512\n",
      "Local CPUs list [0, 1, 2, 3, 4, 5, 6, 7, 8, 9, 10, 11, 12, 13]\n",
      "\n",
      "ens1f0 (Port 1) Status\n",
      "Link Type eth\n",
      "\u001b[93mWarning\u001b[0m: Link status Down >>> Check your port configuration (Physical connection, SM, IP).\n",
      "Speed N/A \n",
      "MTU 1500\n",
      "\u001b[92mOK\u001b[0m: TX nocache copy 'off'\n",
      "\n",
      "ConnectX-4 Device Status on PCI 10:00.1\n",
      "FW version 12.20.1010\n",
      "\u001b[92mOK\u001b[0m: PCI Width x16\n",
      " >>> PCI capabilities might not be fully utilized with Haswell CPU. Make sure I/O non-posted prefetch is disabled in BIOS.\n",
      "\u001b[92mOK\u001b[0m: PCI Speed 8GT/s\n",
      "PCI Max Payload Size 256\n",
      "PCI Max Read Request 512\n",
      "Local CPUs list [0, 1, 2, 3, 4, 5, 6, 7, 8, 9, 10, 11, 12, 13]\n",
      "\n",
      "ens1f1 (Port 1) Status\n",
      "Link Type eth\n",
      "\u001b[92mOK\u001b[0m: Link status Up\n",
      "Speed 100GbE \n",
      "MTU 1500\n",
      "\u001b[92mOK\u001b[0m: TX nocache copy 'off'\n",
      "\n",
      "\n"
     ]
    }
   ],
   "source": [
    "# check it\n",
    "#exec_print('if [ $(ls /tmp/mlnx_tune_*.log) ];then echo \"ok, good\";else echo \"No, you did not do it\"; fi;')\n",
    "exec_print(\"sudo /usr/sbin/mlnx_tune\")"
   ]
  },
  {
   "cell_type": "markdown",
   "metadata": {},
   "source": [
    "## 2.3 Bind NIC interrupt with the correct numa cores using:\n"
   ]
  },
  {
   "cell_type": "code",
   "execution_count": null,
   "metadata": {
    "collapsed": true
   },
   "outputs": [],
   "source": [
    "### /user/sbin/set_irq_affinity_bynode.sh <numa_node> <interface>\n"
   ]
  },
  {
   "cell_type": "code",
   "execution_count": null,
   "metadata": {
    "collapsed": true
   },
   "outputs": [],
   "source": [
    "# no check command"
   ]
  },
  {
   "cell_type": "markdown",
   "metadata": {},
   "source": [
    "## 2.4 Check PCIe Width, Speed, Max Payload Size and Max Read Request"
   ]
  },
  {
   "cell_type": "code",
   "execution_count": null,
   "metadata": {
    "collapsed": true
   },
   "outputs": [],
   "source": [
    "#lspci: https://community.mellanox.com/docs/DOC-2496\n",
    "# /usr/bin/setpci -s 41:00.0 68.W=5000\n",
    "### Especially set Max Read Request to 4096"
   ]
  },
  {
   "cell_type": "code",
   "execution_count": null,
   "metadata": {},
   "outputs": [],
   "source": [
    "\n",
    "exec_print('if [ $(lspci -s 04:00.0 -vvv | grep MaxReadReq) ];then echo \"ok, good\";else echo \"No, you did not do it\"; fi;')\n"
   ]
  },
  {
   "cell_type": "markdown",
   "metadata": {},
   "source": [
    "## 2.5. Increase txqueuelen to 10000:\n"
   ]
  },
  {
   "cell_type": "code",
   "execution_count": null,
   "metadata": {
    "collapsed": true
   },
   "outputs": [],
   "source": [
    "### ifconfig <interface> txqueuelen 10000"
   ]
  },
  {
   "cell_type": "code",
   "execution_count": null,
   "metadata": {},
   "outputs": [],
   "source": [
    "exec_print('ifconfig |grep txqueuelen')"
   ]
  },
  {
   "cell_type": "markdown",
   "metadata": {},
   "source": [
    "## 2.6 Set CPU gonvener setting to performance:"
   ]
  },
  {
   "cell_type": "code",
   "execution_count": null,
   "metadata": {
    "collapsed": true
   },
   "outputs": [],
   "source": [
    "### cpupower frequency-set -g performance"
   ]
  },
  {
   "cell_type": "code",
   "execution_count": null,
   "metadata": {
    "scrolled": true
   },
   "outputs": [],
   "source": [
    "exec_print('cpupower frequency-info -g')"
   ]
  },
  {
   "cell_type": "markdown",
   "metadata": {},
   "source": [
    "## 2.7. Turn off irqbalance and tuned:"
   ]
  },
  {
   "cell_type": "code",
   "execution_count": null,
   "metadata": {
    "collapsed": true
   },
   "outputs": [],
   "source": [
    "### service  irqbalance stop\n",
    "### service  tuned stop"
   ]
  },
  {
   "cell_type": "code",
   "execution_count": null,
   "metadata": {},
   "outputs": [],
   "source": [
    "exec_print('service irqbalance status ')"
   ]
  },
  {
   "cell_type": "code",
   "execution_count": null,
   "metadata": {},
   "outputs": [],
   "source": [
    "exec_print('service tuned status ')"
   ]
  },
  {
   "cell_type": "markdown",
   "metadata": {},
   "source": [
    "# Step 3. Just monitor"
   ]
  },
  {
   "cell_type": "code",
   "execution_count": null,
   "metadata": {
    "scrolled": true
   },
   "outputs": [],
   "source": [
    "## download and monitor\n",
    "dtn.exec_command(\"python callmonitor_v2.py\",graph_mode)\n",
    "\n",
    "## you can stop monitoring anytime when you press \"interrupt kernel\""
   ]
  }
 ],
 "metadata": {
  "kernelspec": {
   "display_name": "Python 3",
   "language": "python",
   "name": "python3"
  },
  "language_info": {
   "codemirror_mode": {
    "name": "ipython",
    "version": 3
   },
   "file_extension": ".py",
   "mimetype": "text/x-python",
   "name": "python",
   "nbconvert_exporter": "python",
   "pygments_lexer": "ipython3",
   "version": "3.4.5"
  }
 },
 "nbformat": 4,
 "nbformat_minor": 2
}
