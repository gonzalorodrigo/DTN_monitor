{
 "cells": [
  {
   "cell_type": "markdown",
   "metadata": {},
   "source": [
    "# Step 1. Parameter Setting "
   ]
  },
  {
   "cell_type": "code",
   "execution_count": null,
   "metadata": {},
   "outputs": [],
   "source": [
    "import dtnmonitor_v2 as dtn\n",
    "import subprocess,datetime,sys\n",
    "\n",
    "def exec_print(command):\n",
    "  with open(logfile, 'a') as f:\n",
    "      process = subprocess.Popen([command], stdout=subprocess.PIPE,stderr=subprocess.STDOUT, shell=True)\n",
    "      f.write(\"\\n# command: \" + command + \"(time:\" + datetime.datetime.now().strftime(\"%Y-%m-%d %H:%M:%S\") + \")\\n\")\n",
    "      for line in iter(process.stdout.readline, b''):\n",
    "          # system print\n",
    "          sys.stdout.write(line)\n",
    "          # log\n",
    "          f.write(line.decode(sys.stdout.encoding) )\n",
    "\n",
    "\n",
    "logfile='/tmp/test2.log' # log file\n",
    "\n",
    "graph_mode=1  #0 all, 1 100pt\n",
    "\n"
   ]
  },
  {
   "cell_type": "markdown",
   "metadata": {},
   "source": [
    "# Step 2. DTN System Checking Instruction Guild"
   ]
  },
  {
   "cell_type": "markdown",
   "metadata": {},
   "source": [
    "## 2.1. To change TCP parameters, edit /etc/sysctl.conf as:"
   ]
  },
  {
   "cell_type": "code",
   "execution_count": null,
   "metadata": {},
   "outputs": [],
   "source": [
    "# net.core.default_qdisc = fq\n",
    "# net.core.netdev_max_backlog=250000\n",
    "# net.ipv4.tcp_no_metrics_save=1\n",
    "# net.ipv4.tcp_congestion_control=htcp\n",
    "# net.ipv4.tcp_mtu_probing=1\n",
    "# net.core.rmem_max=671088640\n",
    "# net.core.wmem_max=671088640\n",
    "# net.core.rmem_default=335544320\n",
    "# net.core.wmem_default=335544320\n",
    "# net.core.optmem_max=335544320\n",
    "# net.ipv4.tcp_mem=33554432 335544320 2355443200\n",
    "# net.ipv4.tcp_rmem = 409600 100873800 2147483647\n",
    "# net.ipv4.tcp_wmem = 409600 100873800 2147483647"
   ]
  },
  {
   "cell_type": "code",
   "execution_count": null,
   "metadata": {
    "scrolled": true
   },
   "outputs": [],
   "source": [
    "# check it\n",
    "# show your system config\n",
    "#dtn.exec_sysout(\"sysctl -a |grep 'net.core\\|net.ipv4.tcp'\")\n",
    "#dtn.exec_print(\"sysctl -a |grep 'net.core\\|net.ipv4.tcp'\")\n",
    "exec_print(\"sysctl -a |grep 'net.core\\|net.ipv4.tcp'\")"
   ]
  },
  {
   "cell_type": "markdown",
   "metadata": {},
   "source": [
    "## 2.2 update Mellanox driver to the most recent one (4.1) and tuning script package.\n"
   ]
  },
  {
   "cell_type": "code",
   "execution_count": null,
   "metadata": {},
   "outputs": [],
   "source": [
    "### Run the tuning script in priority: \n",
    "# sudo mlnx_tune\n"
   ]
  },
  {
   "cell_type": "code",
   "execution_count": null,
   "metadata": {},
   "outputs": [],
   "source": [
    "# check it\n",
    "#exec_print('if [ $(ls /tmp/mlnx_tune_*.log) ];then echo \"ok, good\";else echo \"No, you did not do it\"; fi;')\n",
    "exec_print(\"sudo /usr/sbin/mlnx_tune\")"
   ]
  },
  {
   "cell_type": "markdown",
   "metadata": {},
   "source": [
    "## 2.3 Bind NIC interrupt with the correct numa cores using:\n"
   ]
  },
  {
   "cell_type": "code",
   "execution_count": null,
   "metadata": {},
   "outputs": [],
   "source": [
    "### /user/sbin/set_irq_affinity_bynode.sh <numa_node> <interface>\n"
   ]
  },
  {
   "cell_type": "code",
   "execution_count": null,
   "metadata": {},
   "outputs": [],
   "source": [
    "# no check command"
   ]
  },
  {
   "cell_type": "markdown",
   "metadata": {},
   "source": [
    "## 2.4 Check PCIe Width, Speed, Max Payload Size and Max Read Request"
   ]
  },
  {
   "cell_type": "code",
   "execution_count": null,
   "metadata": {},
   "outputs": [],
   "source": [
    "#lspci: https://community.mellanox.com/docs/DOC-2496\n",
    "# /usr/bin/setpci -s 41:00.0 68.W=5000\n",
    "### Especially set Max Read Request to 4096"
   ]
  },
  {
   "cell_type": "code",
   "execution_count": null,
   "metadata": {},
   "outputs": [],
   "source": [
    "\n",
    "exec_print('if [ $(lspci -s 04:00.0 -vvv | grep MaxReadReq) ];then echo \"ok, good\";else echo \"No, you did not do it\"; fi;')\n"
   ]
  },
  {
   "cell_type": "markdown",
   "metadata": {},
   "source": [
    "## 2.5. Increase txqueuelen to 10000:\n"
   ]
  },
  {
   "cell_type": "code",
   "execution_count": null,
   "metadata": {},
   "outputs": [],
   "source": [
    "### ifconfig <interface> txqueuelen 10000"
   ]
  },
  {
   "cell_type": "code",
   "execution_count": null,
   "metadata": {},
   "outputs": [],
   "source": [
    "exec_print('ifconfig |grep txqueuelen')"
   ]
  },
  {
   "cell_type": "markdown",
   "metadata": {},
   "source": [
    "## 2.6 Set CPU gonvener setting to performance:"
   ]
  },
  {
   "cell_type": "code",
   "execution_count": null,
   "metadata": {},
   "outputs": [],
   "source": [
    "### cpupower frequency-set -g performance"
   ]
  },
  {
   "cell_type": "code",
   "execution_count": null,
   "metadata": {
    "scrolled": true
   },
   "outputs": [],
   "source": [
    "exec_print('cpupower frequency-info -g')"
   ]
  },
  {
   "cell_type": "markdown",
   "metadata": {},
   "source": [
    "## 2.7. Turn off irqbalance and tuned:"
   ]
  },
  {
   "cell_type": "code",
   "execution_count": null,
   "metadata": {},
   "outputs": [],
   "source": [
    "### service  irqbalance stop\n",
    "### service  tuned stop"
   ]
  },
  {
   "cell_type": "code",
   "execution_count": null,
   "metadata": {},
   "outputs": [],
   "source": [
    "exec_print('service irqbalance status ')"
   ]
  },
  {
   "cell_type": "code",
   "execution_count": null,
   "metadata": {},
   "outputs": [],
   "source": [
    "exec_print('service tuned status ')"
   ]
  },
  {
   "cell_type": "markdown",
   "metadata": {},
   "source": [
    "# Step 3. Start monitor"
   ]
  },
  {
   "cell_type": "code",
   "execution_count": null,
   "metadata": {
    "scrolled": false
   },
   "outputs": [],
   "source": [
    "## download and monitor\n",
    "dtn.exec_command(\"python callmonitor_v2.py\",graph_mode)\n",
    "\n",
    "\n",
    "## you can stop monitoring anytime when you press \"interrupt kernel\""
   ]
  },
  {
   "cell_type": "code",
   "execution_count": 1,
   "metadata": {},
   "outputs": [
    {
     "data": {
      "image/png": "[encoded data removed]",
      "text/plain": [
       "<matplotlib.figure.Figure at 0x7fecc077d898>"
      ]
     },
     "metadata": {},
     "output_type": "display_data"
    },
    {
     "data": {
      "text/plain": [
       "None"
      ]
     },
     "metadata": {},
     "output_type": "display_data"
    }
   ],
   "source": [
    "import filemon.graph as gr\n",
    "from filemon import FileMonitor\n",
    "import subprocess\n",
    "import time\n",
    "file_route=\"/tmp/ubuntu-16.04.3-desktop-amd64.iso?_ga=2.104950529.344709668.1507495977-1476816943.1503350384\"\n",
    "monitor_output_file=\"/home/gonzalo/DTN_monitor/output.txt\"\n",
    "fm = FileMonitor()\n",
    "fm.monitor_file_name_async(file_route, 1024*1024*1024,\n",
    "                                monitor_output_file)\n",
    "time.sleep(1.0)\n",
    "mode=0\n",
    "#interface=\"all\"\n",
    "#proc = subprocess.Popen([\"python3\", \"bandw.py\", str(mode), interface], stdout=subprocess.PIPE)\n",
    "thread  = gr.DataPlot(monitor_output_file)\n",
    "thread.daemon = True\n",
    "thread.start()\n"
   ]
  },
  {
   "cell_type": "code",
   "execution_count": 3,
   "metadata": {},
   "outputs": [],
   "source": [
    "print(\"HI!\")"
   ]
  },
  {
   "cell_type": "code",
   "execution_count": null,
   "metadata": {},
   "outputs": [],
   "source": []
  }
 ],
 "metadata": {
  "kernelspec": {
   "display_name": "Python 3",
   "language": "python",
   "name": "python3"
  },
  "language_info": {
   "codemirror_mode": {
    "name": "ipython",
    "version": 3
   },
   "file_extension": ".py",
   "mimetype": "text/x-python",
   "name": "python",
   "nbconvert_exporter": "python",
   "pygments_lexer": "ipython3",
   "version": "3.5.2"
  }
 },
 "nbformat": 4,
 "nbformat_minor": 2
}
