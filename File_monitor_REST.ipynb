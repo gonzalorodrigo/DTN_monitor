{
 "cells": [
  {
   "cell_type": "markdown",
   "metadata": {},
   "source": [
    "# Sample File monitor"
   ]
  },
  {
   "cell_type": "code",
   "execution_count": 1,
   "metadata": {},
   "outputs": [
    {
     "data": {
      "image/png": "[encoded data removed]",
      "text/plain": [
       "<matplotlib.figure.Figure at 0x7f6ce131c5f8>"
      ]
     },
     "metadata": {},
     "output_type": "display_data"
    },
    {
     "data": {
      "text/plain": [
       "None"
      ]
     },
     "metadata": {},
     "output_type": "display_data"
    }
   ],
   "source": [
    "import filemon.graph as gr\n",
    "from filemon import FileMonitor\n",
    "import subprocess\n",
    "import time\n",
    "file_route=\"/tmp/ubuntu-16.04.3-desktop-amd64.iso?_ga=2.104950529.344709668.1507495977-1476816943.1503350384\"\n",
    "monitor_output_file=\"/home/gonzalo/DTN_monitor/output.txt\"\n",
    "fm = FileMonitor()\n",
    "fm.monitor_file_name_async(file_route, 1587609600,\n",
    "                                monitor_output_file)\n",
    "time.sleep(1.0)\n",
    "mode=0\n",
    "thread  = gr.DataPlot([\"File1\"], [monitor_output_file])\n",
    "thread.set_deadline(time.time()+600)\n",
    "thread.daemon = True\n",
    "thread.start()\n"
   ]
  },
  {
   "cell_type": "code",
   "execution_count": 2,
   "metadata": {
    "scrolled": false
   },
   "outputs": [
    {
     "name": "stdout",
     "output_type": "stream",
     "text": [
      "SENDING http://127.0.0.1:5000/api/files/monitor.0.ubuntu-16.04.3-desktop-amd64.iso?_ga=2.104950529.344709668.1507495977-1476816943.1503350384 {\"timestamp\": 1509685903.6396763, \"completion\": 0.0, \"rate\": 0.0, \"received\": 0}\n",
      "SENDING http://127.0.0.1:5000/api/files/monitor.0.ubuntu-16.04.3-desktop-amd64.iso?_ga=2.104950529.344709668.1507495977-1476816943.1503350384 {\"timestamp\": 1509685904.642614, \"completion\": 0.0, \"rate\": 0.0, \"received\": 0}\n"
     ]
    },
    {
     "name": "stderr",
     "output_type": "stream",
     "text": [
      "Exception in thread Thread-8:\n",
      "Traceback (most recent call last):\n",
      "  File \"/usr/lib/python3.5/threading.py\", line 914, in _bootstrap_inner\n",
      "    self.run()\n",
      "  File \"/mnt/DTN_monitor/filemon/graph.py\", line 124, in __run\n",
      "    self.do_other_actions(data_dict)\n",
      "  File \"/mnt/DTN_monitor/filemon/rest_reporter.py\", line 33, in do_other_actions\n",
      "    time_stamp=data_list[\"time_stamps\"][i]\n",
      "IndexError: list index out of range\n",
      "\n"
     ]
    },
    {
     "name": "stdout",
     "output_type": "stream",
     "text": [
      "SENDING http://127.0.0.1:5000/api/files/monitor.0.ubuntu-16.04.3-desktop-amd64.iso?_ga=2.104950529.344709668.1507495977-1476816943.1503350384 {\"timestamp\": 1509685904.694588, \"completion\": 0.0, \"rate\": 0.0, \"received\": 0}\n",
      "SENDING http://127.0.0.1:5000/api/files/monitor.0.ubuntu-16.04.3-desktop-amd64.iso?_ga=2.104950529.344709668.1507495977-1476816943.1503350384 {\"timestamp\": 1509685905.6487582, \"completion\": 0.0, \"rate\": 0.0, \"received\": 0}\n",
      "SENDING http://127.0.0.1:5000/api/files/monitor.0.ubuntu-16.04.3-desktop-amd64.iso?_ga=2.104950529.344709668.1507495977-1476816943.1503350384 {\"timestamp\": 1509685905.7000725, \"completion\": 0.0, \"rate\": 0.0, \"received\": 0}\n"
     ]
    },
    {
     "name": "stderr",
     "output_type": "stream",
     "text": [
      "Exception in thread Thread-13:\n",
      "Traceback (most recent call last):\n",
      "  File \"/usr/lib/python3.5/threading.py\", line 914, in _bootstrap_inner\n",
      "    self.run()\n",
      "  File \"/mnt/DTN_monitor/filemon/graph.py\", line 124, in __run\n",
      "    self.do_other_actions(data_dict)\n",
      "  File \"/mnt/DTN_monitor/filemon/rest_reporter.py\", line 33, in do_other_actions\n",
      "    time_stamp=data_list[\"time_stamps\"][i]\n",
      "IndexError: list index out of range\n",
      "\n"
     ]
    }
   ],
   "source": [
    "import filemon.graph as gr\n",
    "from filemon import FileMonitor\n",
    "import subprocess\n",
    "import time\n",
    "\n",
    "from filemon.orchestrate import monitor_files\n",
    "# Downloading files by running at /tmp/\n",
    "# wget http://releases.ubuntu.com/16.04.3/ubuntu-16.04.3-desktop-amd64.iso?_ga=2.104950529.344709668.1507495977-1476816943.1503350384 \n",
    "\n",
    "file_routes = [\n",
    "    \"/tmp/ubuntu-16.04.3-desktop-amd64.iso?_ga=2.104950529.344709668.1507495977-1476816943.1503350384\",\n",
    "    \"/tmp/ubuntu-16.04.3-desktop-amd64.iso?_ga=2.104950529.344709668.1507495977-1476816943.1503350384.1\",\n",
    "    \"/tmp/ubuntu-16.04.3-desktop-amd64.iso?_ga=2.104950529.344709668.1507495977-1476816943.1503350384.2\",\n",
    "    \"/tmp/ubuntu-16.04.3-desktop-amd64.iso?_ga=2.104950529.344709668.1507495977-1476816943.1503350384.3\",\n",
    "]\n",
    "\n",
    "rest_ids = [\"f1\", \"f2\", \"f3\", \"f4\"]\n",
    "expected_sizes = [1587609600, 1587609600, 1587609600, 1587609600]\n",
    "titles = [\"UbuntuIso_1-1.5GB\", \"UbuntuIso_2-1.5GB\", \"UbuntuIso_3-1.5GB\", \"UbuntuIso_4-1.5GB\"]\n",
    "ref_time = time.time()\n",
    "deadlines = [ref_time+600, ref_time+400, ref_time+500,  ref_time+700]\n",
    "\n",
    "monitor_files(file_routes, expected_sizes, titles=titles, deadline_list=deadlines, y_factor=1.0/float(1024*1024),\n",
    "             y_label=\"MB/s\", y_lim=(0, 20),\n",
    "             rest_reporting=True, file_ids=rest_ids)\n",
    "\n"
   ]
  },
  {
   "cell_type": "code",
   "execution_count": null,
   "metadata": {},
   "outputs": [],
   "source": []
  }
 ],
 "metadata": {
  "kernelspec": {
   "display_name": "Python 3",
   "language": "python",
   "name": "python3"
  },
  "language_info": {
   "codemirror_mode": {
    "name": "ipython",
    "version": 3
   },
   "file_extension": ".py",
   "mimetype": "text/x-python",
   "name": "python",
   "nbconvert_exporter": "python",
   "pygments_lexer": "ipython3",
   "version": "3.5.2"
  }
 },
 "nbformat": 4,
 "nbformat_minor": 2
}
